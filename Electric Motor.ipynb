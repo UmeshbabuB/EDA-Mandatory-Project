{
 "cells": [
  {
   "cell_type": "code",
   "execution_count": null,
   "id": "4536b3bc",
   "metadata": {},
   "outputs": [],
   "source": [
    "'''1. Classify the algorithms into supervised and unsupervised machine learning algorithms\n",
    "[ Support vector machine, Decision tree, Hierarchical clustering, K-nearest neighbor, K-mean clustering, \n",
    " Naïve Bayes, Principal component analysis, Linear discriminant analysis, independent component analysis]'''\n",
    "\n",
    "\n",
    "#Supervised machine learning algorithms\n",
    "Support vector machine, Decision tree, K-nearest neighbor, Naïve Bayes, Linear discriminant analysis\n",
    "\n",
    "#unsupervised machine learning algorithms\n",
    "Hierarchical clustering, K-mean clustering, Principal component analysis, independent component analysis "
   ]
  },
  {
   "cell_type": "code",
   "execution_count": null,
   "id": "d5e396c7",
   "metadata": {},
   "outputs": [],
   "source": [
    "'''2. Given a data set, we are going to see how feature extraction can be done. Electric motor drive data set is given. \n",
    "(electric_motor.csv).\n",
    "\n",
    "Steps for feature extraction\n",
    " \n",
    "(a) Load the data into the variable explorer'''"
   ]
  },
  {
   "cell_type": "code",
   "execution_count": 1,
   "id": "1eaf634b",
   "metadata": {},
   "outputs": [],
   "source": [
    "import pandas as pd\n",
    "import numpy as np\n",
    "import matplotlib.pyplot as plt"
   ]
  },
  {
   "cell_type": "code",
   "execution_count": 2,
   "id": "7abbe681",
   "metadata": {},
   "outputs": [
    {
     "data": {
      "text/html": [
       "<div>\n",
       "<style scoped>\n",
       "    .dataframe tbody tr th:only-of-type {\n",
       "        vertical-align: middle;\n",
       "    }\n",
       "\n",
       "    .dataframe tbody tr th {\n",
       "        vertical-align: top;\n",
       "    }\n",
       "\n",
       "    .dataframe thead th {\n",
       "        text-align: right;\n",
       "    }\n",
       "</style>\n",
       "<table border=\"1\" class=\"dataframe\">\n",
       "  <thead>\n",
       "    <tr style=\"text-align: right;\">\n",
       "      <th></th>\n",
       "      <th>ambient</th>\n",
       "      <th>coolant</th>\n",
       "      <th>u_d</th>\n",
       "      <th>u_q</th>\n",
       "      <th>motor_speed</th>\n",
       "      <th>torque</th>\n",
       "      <th>i_d</th>\n",
       "      <th>i_q</th>\n",
       "      <th>pm</th>\n",
       "      <th>stator_yoke</th>\n",
       "      <th>stator_tooth</th>\n",
       "      <th>stator_winding</th>\n",
       "      <th>profile_id</th>\n",
       "    </tr>\n",
       "  </thead>\n",
       "  <tbody>\n",
       "    <tr>\n",
       "      <th>0</th>\n",
       "      <td>-0.752143</td>\n",
       "      <td>-1.118446</td>\n",
       "      <td>0.327935</td>\n",
       "      <td>-1.297858</td>\n",
       "      <td>-1.222428</td>\n",
       "      <td>-0.250182</td>\n",
       "      <td>1.029572</td>\n",
       "      <td>-0.245860</td>\n",
       "      <td>-2.522071</td>\n",
       "      <td>-1.831422</td>\n",
       "      <td>-2.066143</td>\n",
       "      <td>-2.018033</td>\n",
       "      <td>4</td>\n",
       "    </tr>\n",
       "    <tr>\n",
       "      <th>1</th>\n",
       "      <td>-0.771263</td>\n",
       "      <td>-1.117021</td>\n",
       "      <td>0.329665</td>\n",
       "      <td>-1.297686</td>\n",
       "      <td>-1.222429</td>\n",
       "      <td>-0.249133</td>\n",
       "      <td>1.029509</td>\n",
       "      <td>-0.245832</td>\n",
       "      <td>-2.522418</td>\n",
       "      <td>-1.830969</td>\n",
       "      <td>-2.064859</td>\n",
       "      <td>-2.017631</td>\n",
       "      <td>4</td>\n",
       "    </tr>\n",
       "    <tr>\n",
       "      <th>2</th>\n",
       "      <td>-0.782892</td>\n",
       "      <td>-1.116681</td>\n",
       "      <td>0.332771</td>\n",
       "      <td>-1.301822</td>\n",
       "      <td>-1.222428</td>\n",
       "      <td>-0.249431</td>\n",
       "      <td>1.029448</td>\n",
       "      <td>-0.245818</td>\n",
       "      <td>-2.522673</td>\n",
       "      <td>-1.830400</td>\n",
       "      <td>-2.064073</td>\n",
       "      <td>-2.017343</td>\n",
       "      <td>4</td>\n",
       "    </tr>\n",
       "    <tr>\n",
       "      <th>3</th>\n",
       "      <td>-0.780935</td>\n",
       "      <td>-1.116764</td>\n",
       "      <td>0.333700</td>\n",
       "      <td>-1.301852</td>\n",
       "      <td>-1.222430</td>\n",
       "      <td>-0.248636</td>\n",
       "      <td>1.032845</td>\n",
       "      <td>-0.246955</td>\n",
       "      <td>-2.521639</td>\n",
       "      <td>-1.830333</td>\n",
       "      <td>-2.063137</td>\n",
       "      <td>-2.017632</td>\n",
       "      <td>4</td>\n",
       "    </tr>\n",
       "    <tr>\n",
       "      <th>4</th>\n",
       "      <td>-0.774043</td>\n",
       "      <td>-1.116775</td>\n",
       "      <td>0.335206</td>\n",
       "      <td>-1.303118</td>\n",
       "      <td>-1.222429</td>\n",
       "      <td>-0.248701</td>\n",
       "      <td>1.031807</td>\n",
       "      <td>-0.246610</td>\n",
       "      <td>-2.521900</td>\n",
       "      <td>-1.830498</td>\n",
       "      <td>-2.062795</td>\n",
       "      <td>-2.018145</td>\n",
       "      <td>4</td>\n",
       "    </tr>\n",
       "    <tr>\n",
       "      <th>...</th>\n",
       "      <td>...</td>\n",
       "      <td>...</td>\n",
       "      <td>...</td>\n",
       "      <td>...</td>\n",
       "      <td>...</td>\n",
       "      <td>...</td>\n",
       "      <td>...</td>\n",
       "      <td>...</td>\n",
       "      <td>...</td>\n",
       "      <td>...</td>\n",
       "      <td>...</td>\n",
       "      <td>...</td>\n",
       "      <td>...</td>\n",
       "    </tr>\n",
       "    <tr>\n",
       "      <th>998065</th>\n",
       "      <td>-0.047497</td>\n",
       "      <td>0.341638</td>\n",
       "      <td>0.331475</td>\n",
       "      <td>-1.246114</td>\n",
       "      <td>-1.222428</td>\n",
       "      <td>-0.255640</td>\n",
       "      <td>1.029142</td>\n",
       "      <td>-0.245723</td>\n",
       "      <td>0.429853</td>\n",
       "      <td>1.018568</td>\n",
       "      <td>0.836084</td>\n",
       "      <td>0.494725</td>\n",
       "      <td>72</td>\n",
       "    </tr>\n",
       "    <tr>\n",
       "      <th>998066</th>\n",
       "      <td>-0.048839</td>\n",
       "      <td>0.320022</td>\n",
       "      <td>0.331701</td>\n",
       "      <td>-1.250655</td>\n",
       "      <td>-1.222437</td>\n",
       "      <td>-0.255640</td>\n",
       "      <td>1.029148</td>\n",
       "      <td>-0.245736</td>\n",
       "      <td>0.429751</td>\n",
       "      <td>1.013416</td>\n",
       "      <td>0.834438</td>\n",
       "      <td>0.494279</td>\n",
       "      <td>72</td>\n",
       "    </tr>\n",
       "    <tr>\n",
       "      <th>998067</th>\n",
       "      <td>-0.042350</td>\n",
       "      <td>0.307415</td>\n",
       "      <td>0.330946</td>\n",
       "      <td>-1.246852</td>\n",
       "      <td>-1.222430</td>\n",
       "      <td>-0.255640</td>\n",
       "      <td>1.029191</td>\n",
       "      <td>-0.245701</td>\n",
       "      <td>0.429439</td>\n",
       "      <td>1.002906</td>\n",
       "      <td>0.833936</td>\n",
       "      <td>0.492666</td>\n",
       "      <td>72</td>\n",
       "    </tr>\n",
       "    <tr>\n",
       "      <th>998068</th>\n",
       "      <td>-0.039433</td>\n",
       "      <td>0.302082</td>\n",
       "      <td>0.330987</td>\n",
       "      <td>-1.249505</td>\n",
       "      <td>-1.222432</td>\n",
       "      <td>-0.255640</td>\n",
       "      <td>1.029147</td>\n",
       "      <td>-0.245727</td>\n",
       "      <td>0.429558</td>\n",
       "      <td>0.999157</td>\n",
       "      <td>0.830504</td>\n",
       "      <td>0.490581</td>\n",
       "      <td>72</td>\n",
       "    </tr>\n",
       "    <tr>\n",
       "      <th>998069</th>\n",
       "      <td>-0.043803</td>\n",
       "      <td>0.312666</td>\n",
       "      <td>0.330830</td>\n",
       "      <td>-1.246590</td>\n",
       "      <td>-1.222431</td>\n",
       "      <td>-0.255640</td>\n",
       "      <td>1.029141</td>\n",
       "      <td>-0.245722</td>\n",
       "      <td>0.429166</td>\n",
       "      <td>0.987163</td>\n",
       "      <td>0.828046</td>\n",
       "      <td>0.489382</td>\n",
       "      <td>72</td>\n",
       "    </tr>\n",
       "  </tbody>\n",
       "</table>\n",
       "<p>998070 rows × 13 columns</p>\n",
       "</div>"
      ],
      "text/plain": [
       "         ambient   coolant       u_d       u_q  motor_speed    torque  \\\n",
       "0      -0.752143 -1.118446  0.327935 -1.297858    -1.222428 -0.250182   \n",
       "1      -0.771263 -1.117021  0.329665 -1.297686    -1.222429 -0.249133   \n",
       "2      -0.782892 -1.116681  0.332771 -1.301822    -1.222428 -0.249431   \n",
       "3      -0.780935 -1.116764  0.333700 -1.301852    -1.222430 -0.248636   \n",
       "4      -0.774043 -1.116775  0.335206 -1.303118    -1.222429 -0.248701   \n",
       "...          ...       ...       ...       ...          ...       ...   \n",
       "998065 -0.047497  0.341638  0.331475 -1.246114    -1.222428 -0.255640   \n",
       "998066 -0.048839  0.320022  0.331701 -1.250655    -1.222437 -0.255640   \n",
       "998067 -0.042350  0.307415  0.330946 -1.246852    -1.222430 -0.255640   \n",
       "998068 -0.039433  0.302082  0.330987 -1.249505    -1.222432 -0.255640   \n",
       "998069 -0.043803  0.312666  0.330830 -1.246590    -1.222431 -0.255640   \n",
       "\n",
       "             i_d       i_q        pm  stator_yoke  stator_tooth  \\\n",
       "0       1.029572 -0.245860 -2.522071    -1.831422     -2.066143   \n",
       "1       1.029509 -0.245832 -2.522418    -1.830969     -2.064859   \n",
       "2       1.029448 -0.245818 -2.522673    -1.830400     -2.064073   \n",
       "3       1.032845 -0.246955 -2.521639    -1.830333     -2.063137   \n",
       "4       1.031807 -0.246610 -2.521900    -1.830498     -2.062795   \n",
       "...          ...       ...       ...          ...           ...   \n",
       "998065  1.029142 -0.245723  0.429853     1.018568      0.836084   \n",
       "998066  1.029148 -0.245736  0.429751     1.013416      0.834438   \n",
       "998067  1.029191 -0.245701  0.429439     1.002906      0.833936   \n",
       "998068  1.029147 -0.245727  0.429558     0.999157      0.830504   \n",
       "998069  1.029141 -0.245722  0.429166     0.987163      0.828046   \n",
       "\n",
       "        stator_winding  profile_id  \n",
       "0            -2.018033           4  \n",
       "1            -2.017631           4  \n",
       "2            -2.017343           4  \n",
       "3            -2.017632           4  \n",
       "4            -2.018145           4  \n",
       "...                ...         ...  \n",
       "998065        0.494725          72  \n",
       "998066        0.494279          72  \n",
       "998067        0.492666          72  \n",
       "998068        0.490581          72  \n",
       "998069        0.489382          72  \n",
       "\n",
       "[998070 rows x 13 columns]"
      ]
     },
     "execution_count": 2,
     "metadata": {},
     "output_type": "execute_result"
    }
   ],
   "source": [
    "df=pd.read_csv('electric_motor.csv')\n",
    "df"
   ]
  },
  {
   "cell_type": "code",
   "execution_count": 3,
   "id": "80d29634",
   "metadata": {},
   "outputs": [
    {
     "data": {
      "text/plain": [
       "ambient           0\n",
       "coolant           0\n",
       "u_d               0\n",
       "u_q               0\n",
       "motor_speed       0\n",
       "torque            0\n",
       "i_d               0\n",
       "i_q               0\n",
       "pm                0\n",
       "stator_yoke       0\n",
       "stator_tooth      0\n",
       "stator_winding    0\n",
       "profile_id        0\n",
       "dtype: int64"
      ]
     },
     "execution_count": 3,
     "metadata": {},
     "output_type": "execute_result"
    }
   ],
   "source": [
    "df.isnull().sum()"
   ]
  },
  {
   "cell_type": "code",
   "execution_count": 4,
   "id": "636f3c65",
   "metadata": {},
   "outputs": [
    {
     "data": {
      "text/plain": [
       "(998070, 13)"
      ]
     },
     "execution_count": 4,
     "metadata": {},
     "output_type": "execute_result"
    }
   ],
   "source": [
    "df.shape"
   ]
  },
  {
   "cell_type": "code",
   "execution_count": 5,
   "id": "9f7cc595",
   "metadata": {},
   "outputs": [
    {
     "data": {
      "text/plain": [
       "0"
      ]
     },
     "execution_count": 5,
     "metadata": {},
     "output_type": "execute_result"
    }
   ],
   "source": [
    "df.duplicated().sum()"
   ]
  },
  {
   "cell_type": "code",
   "execution_count": 6,
   "id": "ae0ef975",
   "metadata": {},
   "outputs": [
    {
     "data": {
      "text/plain": [
       "ambient           959578\n",
       "coolant           998070\n",
       "u_d               980020\n",
       "u_q               998070\n",
       "motor_speed       998070\n",
       "torque            870767\n",
       "i_d               998070\n",
       "i_q               849535\n",
       "pm                996569\n",
       "stator_yoke       998070\n",
       "stator_tooth      998070\n",
       "stator_winding    998070\n",
       "profile_id        998070\n",
       "dtype: int64"
      ]
     },
     "execution_count": 6,
     "metadata": {},
     "output_type": "execute_result"
    }
   ],
   "source": [
    "Q1 = df.quantile(0.25)\n",
    "Q3 = df.quantile(0.75)\n",
    "IQR = Q3 - Q1\n",
    "\n",
    "outliers=df[(df < (Q1 - 1.5 *IQR)) | (df > (Q3 + 1.5 *IQR)) ]\n",
    "outliers.isnull().sum()"
   ]
  },
  {
   "cell_type": "code",
   "execution_count": 7,
   "id": "2e326030",
   "metadata": {},
   "outputs": [
    {
     "data": {
      "text/plain": [
       "(814996, 13)"
      ]
     },
     "execution_count": 7,
     "metadata": {},
     "output_type": "execute_result"
    }
   ],
   "source": [
    "df1=df[~((df < (Q1 - 1.5 *IQR)) | (df > (Q3 + 1.5 *IQR))).any(axis=1)]\n",
    "df1.shape"
   ]
  },
  {
   "cell_type": "code",
   "execution_count": 8,
   "id": "574bfff9",
   "metadata": {},
   "outputs": [
    {
     "data": {
      "text/html": [
       "<div>\n",
       "<style scoped>\n",
       "    .dataframe tbody tr th:only-of-type {\n",
       "        vertical-align: middle;\n",
       "    }\n",
       "\n",
       "    .dataframe tbody tr th {\n",
       "        vertical-align: top;\n",
       "    }\n",
       "\n",
       "    .dataframe thead th {\n",
       "        text-align: right;\n",
       "    }\n",
       "</style>\n",
       "<table border=\"1\" class=\"dataframe\">\n",
       "  <thead>\n",
       "    <tr style=\"text-align: right;\">\n",
       "      <th></th>\n",
       "      <th>ambient</th>\n",
       "      <th>coolant</th>\n",
       "      <th>u_d</th>\n",
       "      <th>u_q</th>\n",
       "      <th>motor_speed</th>\n",
       "      <th>i_d</th>\n",
       "      <th>i_q</th>\n",
       "      <th>pm</th>\n",
       "      <th>stator_yoke</th>\n",
       "      <th>stator_tooth</th>\n",
       "      <th>stator_winding</th>\n",
       "      <th>profile_id</th>\n",
       "    </tr>\n",
       "  </thead>\n",
       "  <tbody>\n",
       "    <tr>\n",
       "      <th>0</th>\n",
       "      <td>-0.752143</td>\n",
       "      <td>-1.118446</td>\n",
       "      <td>0.327935</td>\n",
       "      <td>-1.297858</td>\n",
       "      <td>-1.222428</td>\n",
       "      <td>1.029572</td>\n",
       "      <td>-0.245860</td>\n",
       "      <td>-2.522071</td>\n",
       "      <td>-1.831422</td>\n",
       "      <td>-2.066143</td>\n",
       "      <td>-2.018033</td>\n",
       "      <td>4</td>\n",
       "    </tr>\n",
       "    <tr>\n",
       "      <th>1</th>\n",
       "      <td>-0.771263</td>\n",
       "      <td>-1.117021</td>\n",
       "      <td>0.329665</td>\n",
       "      <td>-1.297686</td>\n",
       "      <td>-1.222429</td>\n",
       "      <td>1.029509</td>\n",
       "      <td>-0.245832</td>\n",
       "      <td>-2.522418</td>\n",
       "      <td>-1.830969</td>\n",
       "      <td>-2.064859</td>\n",
       "      <td>-2.017631</td>\n",
       "      <td>4</td>\n",
       "    </tr>\n",
       "    <tr>\n",
       "      <th>2</th>\n",
       "      <td>-0.782892</td>\n",
       "      <td>-1.116681</td>\n",
       "      <td>0.332771</td>\n",
       "      <td>-1.301822</td>\n",
       "      <td>-1.222428</td>\n",
       "      <td>1.029448</td>\n",
       "      <td>-0.245818</td>\n",
       "      <td>-2.522673</td>\n",
       "      <td>-1.830400</td>\n",
       "      <td>-2.064073</td>\n",
       "      <td>-2.017343</td>\n",
       "      <td>4</td>\n",
       "    </tr>\n",
       "    <tr>\n",
       "      <th>3</th>\n",
       "      <td>-0.780935</td>\n",
       "      <td>-1.116764</td>\n",
       "      <td>0.333700</td>\n",
       "      <td>-1.301852</td>\n",
       "      <td>-1.222430</td>\n",
       "      <td>1.032845</td>\n",
       "      <td>-0.246955</td>\n",
       "      <td>-2.521639</td>\n",
       "      <td>-1.830333</td>\n",
       "      <td>-2.063137</td>\n",
       "      <td>-2.017632</td>\n",
       "      <td>4</td>\n",
       "    </tr>\n",
       "    <tr>\n",
       "      <th>4</th>\n",
       "      <td>-0.774043</td>\n",
       "      <td>-1.116775</td>\n",
       "      <td>0.335206</td>\n",
       "      <td>-1.303118</td>\n",
       "      <td>-1.222429</td>\n",
       "      <td>1.031807</td>\n",
       "      <td>-0.246610</td>\n",
       "      <td>-2.521900</td>\n",
       "      <td>-1.830498</td>\n",
       "      <td>-2.062795</td>\n",
       "      <td>-2.018145</td>\n",
       "      <td>4</td>\n",
       "    </tr>\n",
       "    <tr>\n",
       "      <th>...</th>\n",
       "      <td>...</td>\n",
       "      <td>...</td>\n",
       "      <td>...</td>\n",
       "      <td>...</td>\n",
       "      <td>...</td>\n",
       "      <td>...</td>\n",
       "      <td>...</td>\n",
       "      <td>...</td>\n",
       "      <td>...</td>\n",
       "      <td>...</td>\n",
       "      <td>...</td>\n",
       "      <td>...</td>\n",
       "    </tr>\n",
       "    <tr>\n",
       "      <th>998065</th>\n",
       "      <td>-0.047497</td>\n",
       "      <td>0.341638</td>\n",
       "      <td>0.331475</td>\n",
       "      <td>-1.246114</td>\n",
       "      <td>-1.222428</td>\n",
       "      <td>1.029142</td>\n",
       "      <td>-0.245723</td>\n",
       "      <td>0.429853</td>\n",
       "      <td>1.018568</td>\n",
       "      <td>0.836084</td>\n",
       "      <td>0.494725</td>\n",
       "      <td>72</td>\n",
       "    </tr>\n",
       "    <tr>\n",
       "      <th>998066</th>\n",
       "      <td>-0.048839</td>\n",
       "      <td>0.320022</td>\n",
       "      <td>0.331701</td>\n",
       "      <td>-1.250655</td>\n",
       "      <td>-1.222437</td>\n",
       "      <td>1.029148</td>\n",
       "      <td>-0.245736</td>\n",
       "      <td>0.429751</td>\n",
       "      <td>1.013416</td>\n",
       "      <td>0.834438</td>\n",
       "      <td>0.494279</td>\n",
       "      <td>72</td>\n",
       "    </tr>\n",
       "    <tr>\n",
       "      <th>998067</th>\n",
       "      <td>-0.042350</td>\n",
       "      <td>0.307415</td>\n",
       "      <td>0.330946</td>\n",
       "      <td>-1.246852</td>\n",
       "      <td>-1.222430</td>\n",
       "      <td>1.029191</td>\n",
       "      <td>-0.245701</td>\n",
       "      <td>0.429439</td>\n",
       "      <td>1.002906</td>\n",
       "      <td>0.833936</td>\n",
       "      <td>0.492666</td>\n",
       "      <td>72</td>\n",
       "    </tr>\n",
       "    <tr>\n",
       "      <th>998068</th>\n",
       "      <td>-0.039433</td>\n",
       "      <td>0.302082</td>\n",
       "      <td>0.330987</td>\n",
       "      <td>-1.249505</td>\n",
       "      <td>-1.222432</td>\n",
       "      <td>1.029147</td>\n",
       "      <td>-0.245727</td>\n",
       "      <td>0.429558</td>\n",
       "      <td>0.999157</td>\n",
       "      <td>0.830504</td>\n",
       "      <td>0.490581</td>\n",
       "      <td>72</td>\n",
       "    </tr>\n",
       "    <tr>\n",
       "      <th>998069</th>\n",
       "      <td>-0.043803</td>\n",
       "      <td>0.312666</td>\n",
       "      <td>0.330830</td>\n",
       "      <td>-1.246590</td>\n",
       "      <td>-1.222431</td>\n",
       "      <td>1.029141</td>\n",
       "      <td>-0.245722</td>\n",
       "      <td>0.429166</td>\n",
       "      <td>0.987163</td>\n",
       "      <td>0.828046</td>\n",
       "      <td>0.489382</td>\n",
       "      <td>72</td>\n",
       "    </tr>\n",
       "  </tbody>\n",
       "</table>\n",
       "<p>998070 rows × 12 columns</p>\n",
       "</div>"
      ],
      "text/plain": [
       "         ambient   coolant       u_d       u_q  motor_speed       i_d  \\\n",
       "0      -0.752143 -1.118446  0.327935 -1.297858    -1.222428  1.029572   \n",
       "1      -0.771263 -1.117021  0.329665 -1.297686    -1.222429  1.029509   \n",
       "2      -0.782892 -1.116681  0.332771 -1.301822    -1.222428  1.029448   \n",
       "3      -0.780935 -1.116764  0.333700 -1.301852    -1.222430  1.032845   \n",
       "4      -0.774043 -1.116775  0.335206 -1.303118    -1.222429  1.031807   \n",
       "...          ...       ...       ...       ...          ...       ...   \n",
       "998065 -0.047497  0.341638  0.331475 -1.246114    -1.222428  1.029142   \n",
       "998066 -0.048839  0.320022  0.331701 -1.250655    -1.222437  1.029148   \n",
       "998067 -0.042350  0.307415  0.330946 -1.246852    -1.222430  1.029191   \n",
       "998068 -0.039433  0.302082  0.330987 -1.249505    -1.222432  1.029147   \n",
       "998069 -0.043803  0.312666  0.330830 -1.246590    -1.222431  1.029141   \n",
       "\n",
       "             i_q        pm  stator_yoke  stator_tooth  stator_winding  \\\n",
       "0      -0.245860 -2.522071    -1.831422     -2.066143       -2.018033   \n",
       "1      -0.245832 -2.522418    -1.830969     -2.064859       -2.017631   \n",
       "2      -0.245818 -2.522673    -1.830400     -2.064073       -2.017343   \n",
       "3      -0.246955 -2.521639    -1.830333     -2.063137       -2.017632   \n",
       "4      -0.246610 -2.521900    -1.830498     -2.062795       -2.018145   \n",
       "...          ...       ...          ...           ...             ...   \n",
       "998065 -0.245723  0.429853     1.018568      0.836084        0.494725   \n",
       "998066 -0.245736  0.429751     1.013416      0.834438        0.494279   \n",
       "998067 -0.245701  0.429439     1.002906      0.833936        0.492666   \n",
       "998068 -0.245727  0.429558     0.999157      0.830504        0.490581   \n",
       "998069 -0.245722  0.429166     0.987163      0.828046        0.489382   \n",
       "\n",
       "        profile_id  \n",
       "0                4  \n",
       "1                4  \n",
       "2                4  \n",
       "3                4  \n",
       "4                4  \n",
       "...            ...  \n",
       "998065          72  \n",
       "998066          72  \n",
       "998067          72  \n",
       "998068          72  \n",
       "998069          72  \n",
       "\n",
       "[998070 rows x 12 columns]"
      ]
     },
     "execution_count": 8,
     "metadata": {},
     "output_type": "execute_result"
    }
   ],
   "source": [
    "df2=df.drop(['torque'],axis=1)\n",
    "df2"
   ]
  },
  {
   "cell_type": "code",
   "execution_count": 9,
   "id": "b7976c20",
   "metadata": {},
   "outputs": [],
   "source": [
    "#(b) Construct covariance matrix"
   ]
  },
  {
   "cell_type": "code",
   "execution_count": 10,
   "id": "93f51515",
   "metadata": {},
   "outputs": [
    {
     "data": {
      "text/plain": [
       "array([[-7.5214297e-01, -1.1184461e+00,  3.2793520e-01, ...,\n",
       "        -2.0661428e+00, -2.0180326e+00,  4.0000000e+00],\n",
       "       [-7.7126324e-01, -1.1170206e+00,  3.2966480e-01, ...,\n",
       "        -2.0648587e+00, -2.0176313e+00,  4.0000000e+00],\n",
       "       [-7.8289163e-01, -1.1166813e+00,  3.3277150e-01, ...,\n",
       "        -2.0640730e+00, -2.0173435e+00,  4.0000000e+00],\n",
       "       ...,\n",
       "       [-4.2350100e-02,  3.0741498e-01,  3.3094567e-01, ...,\n",
       "         8.3393570e-01,  4.9266600e-01,  7.2000000e+01],\n",
       "       [-3.9433220e-02,  3.0208160e-01,  3.3098695e-01, ...,\n",
       "         8.3050430e-01,  4.9058100e-01,  7.2000000e+01],\n",
       "       [-4.3802520e-02,  3.1266590e-01,  3.3082953e-01, ...,\n",
       "         8.2804570e-01,  4.8938242e-01,  7.2000000e+01]])"
      ]
     },
     "execution_count": 10,
     "metadata": {},
     "output_type": "execute_result"
    }
   ],
   "source": [
    "x=df2.iloc[:,0:12].values\n",
    "x"
   ]
  },
  {
   "cell_type": "code",
   "execution_count": 11,
   "id": "c54d3cae",
   "metadata": {},
   "outputs": [
    {
     "data": {
      "text/plain": [
       "array([-0.2501821 , -0.2491333 , -0.24943107, ..., -0.25563973,\n",
       "       -0.25563973, -0.25563973])"
      ]
     },
     "execution_count": 11,
     "metadata": {},
     "output_type": "execute_result"
    }
   ],
   "source": [
    "y=df.iloc[:,5].values\n",
    "y"
   ]
  },
  {
   "cell_type": "code",
   "execution_count": 12,
   "id": "3a203a72",
   "metadata": {},
   "outputs": [
    {
     "data": {
      "text/plain": [
       "array([[ 9.86300805e-01,  4.32494787e-01,  1.93005042e-01,\n",
       "         8.70310410e-02,  7.78404221e-02,  5.56047815e-03,\n",
       "        -2.58230851e-01,  4.95900999e-01,  4.48982998e-01,\n",
       "         3.93856595e-01,  2.99311687e-01,  8.43019799e+00],\n",
       "       [ 4.32494787e-01,  1.00485264e+00,  1.78761322e-01,\n",
       "         2.79838454e-02, -3.34533704e-02,  1.08642049e-01,\n",
       "        -1.86121348e-01,  4.29729580e-01,  8.77074028e-01,\n",
       "         6.90395090e-01,  5.09685941e-01,  1.10559849e+01],\n",
       "       [ 1.93005042e-01,  1.78761322e-01,  9.95760865e-01,\n",
       "        -2.74776268e-02, -2.33618909e-01,  3.57396729e-01,\n",
       "        -7.93236133e-01, -8.20336287e-02,  4.13838061e-02,\n",
       "        -6.60889658e-02, -1.50144593e-01,  6.62486546e+00],\n",
       "       [ 8.70310410e-02,  2.79838454e-02, -2.74776268e-02,\n",
       "         1.00466581e+00,  7.19451323e-01, -1.82095355e-01,\n",
       "        -2.63547055e-02,  1.01033848e-01,  1.06545596e-01,\n",
       "         1.49304332e-01,  1.25529272e-01, -2.70494308e+00],\n",
       "       [ 7.78404221e-02, -3.34533704e-02, -2.33618909e-01,\n",
       "         7.19451323e-01,  1.00246010e+00, -7.23074568e-01,\n",
       "         6.31731037e-03,  3.31392377e-01,  1.82979762e-01,\n",
       "         3.34185316e-01,  3.92985111e-01, -3.67361641e+00],\n",
       "       [ 5.56047815e-03,  1.08642049e-01,  3.57396729e-01,\n",
       "        -1.82095355e-01, -7.23074568e-01,  9.97989653e-01,\n",
       "        -2.03598142e-01, -2.97636358e-01, -1.79910589e-01,\n",
       "        -3.87165689e-01, -5.38487132e-01,  3.13934387e+00],\n",
       "       [-2.58230851e-01, -1.86121348e-01, -7.93236133e-01,\n",
       "        -2.63547055e-02,  6.31731037e-03, -2.03598142e-01,\n",
       "         9.95828653e-01, -8.59328135e-02, -9.86503874e-02,\n",
       "        -2.51287851e-02,  6.07211650e-02, -5.64171443e+00],\n",
       "       [ 4.95900999e-01,  4.29729580e-01, -8.20336287e-02,\n",
       "         1.01033848e-01,  3.31392377e-01, -2.97636358e-01,\n",
       "        -8.59328135e-02,  9.91391106e-01,  6.92742162e-01,\n",
       "         7.64729997e-01,  7.25209736e-01,  3.44470444e+00],\n",
       "       [ 4.48982998e-01,  8.77074028e-01,  4.13838061e-02,\n",
       "         1.06545596e-01,  1.82979762e-01, -1.79910589e-01,\n",
       "        -9.86503874e-02,  6.92742162e-01,  1.00209941e+00,\n",
       "         9.50511567e-01,  8.44628928e-01,  8.79477565e+00],\n",
       "       [ 3.93856595e-01,  6.90395090e-01, -6.60889658e-02,\n",
       "         1.49304332e-01,  3.34185316e-01, -3.87165689e-01,\n",
       "        -2.51287851e-02,  7.64729997e-01,  9.50511567e-01,\n",
       "         9.99195136e-01,  9.63644642e-01,  6.19992529e+00],\n",
       "       [ 2.99311687e-01,  5.09685941e-01, -1.50144593e-01,\n",
       "         1.25529272e-01,  3.92985111e-01, -5.38487132e-01,\n",
       "         6.07211650e-02,  7.25209736e-01,  8.44628928e-01,\n",
       "         9.63644642e-01,  9.96688192e-01,  4.00861457e+00],\n",
       "       [ 8.43019799e+00,  1.10559849e+01,  6.62486546e+00,\n",
       "        -2.70494308e+00, -3.67361641e+00,  3.13934387e+00,\n",
       "        -5.64171443e+00,  3.44470444e+00,  8.79477565e+00,\n",
       "         6.19992529e+00,  4.00861457e+00,  4.87222866e+02]])"
      ]
     },
     "execution_count": 12,
     "metadata": {},
     "output_type": "execute_result"
    }
   ],
   "source": [
    "cov_matrix = np.cov(x, rowvar=False)\n",
    "cov_matrix"
   ]
  },
  {
   "cell_type": "code",
   "execution_count": 13,
   "id": "bb46d29f",
   "metadata": {},
   "outputs": [],
   "source": [
    "#(c) Find Eigen values and Eigen vectors of the matrix"
   ]
  },
  {
   "cell_type": "code",
   "execution_count": 14,
   "id": "57073875",
   "metadata": {},
   "outputs": [],
   "source": [
    "from numpy.linalg import eigh\n",
    "eigenvalues, eigenvectors = eigh(cov_matrix)"
   ]
  },
  {
   "cell_type": "code",
   "execution_count": 15,
   "id": "d5c1c05b",
   "metadata": {},
   "outputs": [
    {
     "data": {
      "text/plain": [
       "array([8.25481143e-04, 8.03924883e-03, 4.06345431e-02, 1.37192014e-01,\n",
       "       2.43020757e-01, 3.56147063e-01, 7.21703462e-01, 8.35582229e-01,\n",
       "       1.57203564e+00, 1.87599498e+00, 4.27157403e+00, 4.88137349e+02])"
      ]
     },
     "execution_count": 15,
     "metadata": {},
     "output_type": "execute_result"
    }
   ],
   "source": [
    "eigenvalues"
   ]
  },
  {
   "cell_type": "code",
   "execution_count": 16,
   "id": "6f5dd420",
   "metadata": {},
   "outputs": [
    {
     "data": {
      "text/plain": [
       "array([[ 7.60458664e-04, -5.05174710e-03,  5.23419617e-02,\n",
       "        -1.11158470e-01,  1.78986998e-01, -4.00754552e-01,\n",
       "        -8.19026209e-01,  1.38480295e-01, -6.26234075e-02,\n",
       "        -2.52417397e-01, -1.85254436e-01,  1.73579108e-02],\n",
       "       [-1.23808916e-01, -4.06417039e-01, -1.09091810e-01,\n",
       "         2.91287416e-01, -4.19184951e-01, -4.20424334e-01,\n",
       "         2.59072966e-01,  3.45613192e-01,  1.94970533e-01,\n",
       "        -2.85613669e-01, -2.52190850e-01,  2.27669793e-02],\n",
       "       [-6.04991952e-03,  7.76892919e-03,  1.40743624e-01,\n",
       "         5.26853008e-01,  4.71070814e-01, -4.50281881e-02,\n",
       "         1.90877715e-01, -2.11775172e-01, -3.04196155e-01,\n",
       "        -5.40049526e-01,  1.13699000e-01,  1.36254984e-02],\n",
       "       [-5.51346630e-03, -1.92725513e-02, -4.25640898e-01,\n",
       "        -6.39408229e-02,  2.35813520e-01,  1.66108676e-01,\n",
       "         1.01130215e-01,  5.95845172e-01, -5.71298158e-01,\n",
       "         1.06801810e-01, -1.67516290e-01, -5.54529954e-03],\n",
       "       [ 3.63496014e-02, -1.72907861e-02,  6.82841157e-01,\n",
       "         1.06618228e-01, -2.92827973e-01, -5.22187380e-02,\n",
       "         1.29256613e-02, -5.00935507e-03, -5.23160867e-01,\n",
       "         2.69672230e-01, -2.92567854e-01, -7.53023072e-03],\n",
       "       [ 2.35059273e-02, -9.06791950e-02,  4.82932133e-01,\n",
       "        -2.17302082e-01,  4.18740578e-03,  4.09337399e-01,\n",
       "        -9.79221440e-03,  5.33606370e-01,  1.89494704e-01,\n",
       "        -3.78120457e-01,  2.81868791e-01,  6.44132797e-03],\n",
       "       [-7.45316919e-03,  1.09461670e-02,  1.80314545e-01,\n",
       "         5.07719292e-01,  4.10655222e-01, -4.41783540e-02,\n",
       "        -7.48188577e-02,  3.22262470e-01,  3.95799240e-01,\n",
       "         5.21042664e-01, -3.48504686e-02, -1.16174955e-02],\n",
       "       [ 1.84133805e-02, -5.96751355e-02, -1.72012413e-01,\n",
       "         3.97867507e-01, -2.51053122e-01,  6.64362171e-01,\n",
       "        -3.43970029e-01, -1.22202489e-01,  7.53311457e-02,\n",
       "        -1.29075240e-01, -3.84932573e-01,  7.15010568e-03],\n",
       "       [ 5.40393632e-01,  6.40010575e-01,  2.19424101e-02,\n",
       "        -3.16831577e-02, -1.75332417e-02, -9.62006354e-02,\n",
       "         2.04316622e-01,  1.35386753e-01,  1.81646076e-01,\n",
       "        -1.95153974e-01, -3.94752589e-01,  1.81407139e-02],\n",
       "       [-7.63171445e-01,  2.61553516e-01,  1.16788706e-01,\n",
       "        -2.08057557e-01,  1.97505870e-01,  5.99933136e-02,\n",
       "         1.59207175e-01, -3.67660779e-02,  1.36095629e-01,\n",
       "        -9.17599605e-02, -4.42514494e-01,  1.28113689e-02],\n",
       "       [ 3.28450022e-01, -5.86635725e-01,  9.30708673e-02,\n",
       "        -3.19648076e-01,  3.97472969e-01,  8.03198443e-02,\n",
       "         1.55390635e-01, -1.95588608e-01,  1.24907321e-01,\n",
       "         8.91713581e-03, -4.41083380e-01,  8.30277050e-03],\n",
       "       [ 8.58873484e-06,  4.52269586e-05, -1.39602634e-05,\n",
       "        -1.08605681e-03,  1.47380481e-04,  1.00884852e-02,\n",
       "         9.93542338e-04, -3.30399905e-03, -9.56046361e-03,\n",
       "         3.49517751e-02,  2.13204423e-02,  9.99058319e-01]])"
      ]
     },
     "execution_count": 16,
     "metadata": {},
     "output_type": "execute_result"
    }
   ],
   "source": [
    "eigenvectors"
   ]
  },
  {
   "cell_type": "code",
   "execution_count": 17,
   "id": "b652993e",
   "metadata": {},
   "outputs": [],
   "source": [
    "#(d) Arrange the Eigen values and Eigen vectors in descending order"
   ]
  },
  {
   "cell_type": "code",
   "execution_count": 18,
   "id": "a082733b",
   "metadata": {},
   "outputs": [
    {
     "data": {
      "text/plain": [
       "[0.9798017915368882,\n",
       " 0.00857401282062106,\n",
       " 0.0037655451794878607,\n",
       " 0.003155430202244406,\n",
       " 0.0016772020542469427,\n",
       " 0.0014486216754505744,\n",
       " 0.0007148675081136023,\n",
       " 0.0004877974884677463,\n",
       " 0.0002753753255294423,\n",
       " 8.156269587767111e-05,\n",
       " 1.6136586177144224e-05,\n",
       " 1.6569268954470877e-06]"
      ]
     },
     "execution_count": 18,
     "metadata": {},
     "output_type": "execute_result"
    }
   ],
   "source": [
    "total_eigenvalues = sum(eigenvalues)\n",
    "var_exp = [(i/total_eigenvalues) for i in sorted(eigenvalues, reverse=True)]\n",
    "var_exp"
   ]
  },
  {
   "cell_type": "code",
   "execution_count": 19,
   "id": "781bb317",
   "metadata": {},
   "outputs": [],
   "source": [
    "#(e) Select the number of Eigen values such that the ration of selected and total Eigen values is 0.95."
   ]
  },
  {
   "cell_type": "code",
   "execution_count": 20,
   "id": "ef4f84de",
   "metadata": {},
   "outputs": [
    {
     "name": "stdout",
     "output_type": "stream",
     "text": [
      "0.9798017915368882\n",
      "total Eigen values is >= 0.95 :  0.9798017915368882\n"
     ]
    }
   ],
   "source": [
    "sum2=0\n",
    "for i in var_exp:\n",
    "    sum2+=i\n",
    "    print(i)\n",
    "    if sum2>=0.95:\n",
    "        print('total Eigen values is >= 0.95 : ',sum2)\n",
    "        break"
   ]
  },
  {
   "cell_type": "code",
   "execution_count": null,
   "id": "d8940d1a",
   "metadata": {},
   "outputs": [],
   "source": [
    "#(f) After doing this select as many Eigen vector as number of Eigen values selected."
   ]
  },
  {
   "cell_type": "code",
   "execution_count": 21,
   "id": "37fba100",
   "metadata": {},
   "outputs": [],
   "source": [
    "egnpairs = [(np.abs(eigenvalues[0]), (eigenvectors[:, 1]))]\n",
    "projectionMatrix = np.hstack((egnpairs[0][1][:, np.newaxis]))"
   ]
  },
  {
   "cell_type": "code",
   "execution_count": 22,
   "id": "5ee6d006",
   "metadata": {},
   "outputs": [
    {
     "data": {
      "text/plain": [
       "array([-5.05174710e-03, -4.06417039e-01,  7.76892919e-03, -1.92725513e-02,\n",
       "       -1.72907861e-02, -9.06791950e-02,  1.09461670e-02, -5.96751355e-02,\n",
       "        6.40010575e-01,  2.61553516e-01, -5.86635725e-01,  4.52269586e-05])"
      ]
     },
     "execution_count": 22,
     "metadata": {},
     "output_type": "execute_result"
    }
   ],
   "source": [
    "projectionMatrix"
   ]
  }
 ],
 "metadata": {
  "kernelspec": {
   "display_name": "Python 3 (ipykernel)",
   "language": "python",
   "name": "python3"
  },
  "language_info": {
   "codemirror_mode": {
    "name": "ipython",
    "version": 3
   },
   "file_extension": ".py",
   "mimetype": "text/x-python",
   "name": "python",
   "nbconvert_exporter": "python",
   "pygments_lexer": "ipython3",
   "version": "3.9.7"
  }
 },
 "nbformat": 4,
 "nbformat_minor": 5
}
